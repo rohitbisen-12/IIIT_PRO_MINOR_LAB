{
  "nbformat": 4,
  "nbformat_minor": 0,
  "metadata": {
    "colab": {
      "provenance": [],
      "include_colab_link": true
    },
    "kernelspec": {
      "name": "python3",
      "display_name": "Python 3"
    },
    "language_info": {
      "name": "python"
    }
  },
  "cells": [
    {
      "cell_type": "markdown",
      "metadata": {
        "id": "view-in-github",
        "colab_type": "text"
      },
      "source": [
        "<a href=\"https://colab.research.google.com/github/rohitbisen-12/IIIT_PRO_MINOR_LAB/blob/main/Module_09_lab_01.ipynb\" target=\"_parent\"><img src=\"https://colab.research.google.com/assets/colab-badge.svg\" alt=\"Open In Colab\"/></a>"
      ]
    },
    {
      "cell_type": "markdown",
      "source": [
        "Module 9: Neural Networks\n",
        "\n",
        "Lab 1: Introduction to Multi-Layer Perceptron (MLP)"
      ],
      "metadata": {
        "id": "xXd8JNrOE4de"
      }
    },
    {
      "cell_type": "code",
      "source": [
        "import numpy as np\n",
        "import torch\n",
        "import torch.nn as nn\n",
        "import torch.optim as optim\n",
        "\n",
        "from matplotlib.colors import ListedColormap\n",
        "import matplotlib.pyplot as plt\n",
        "\n",
        "%matplotlib inline\n",
        "\n",
        "# # The following code is used for hiding the warnings and make this notebook clearer.\n",
        "from matplotlib.axes._axes import _log as matplotlib_axes_logger\n",
        "matplotlib_axes_logger.setLevel('ERROR')"
      ],
      "metadata": {
        "id": "66sQ7B_SE7Hs"
      },
      "execution_count": 1,
      "outputs": []
    },
    {
      "cell_type": "code",
      "source": [
        "## Code to plot decision boundary ##\n",
        "\n",
        "def plot_decision_regions(X, y, classifier, method, test_idx=None, resolution=0.02):\n",
        "\n",
        "    # setup marker generator and color map\n",
        "    markers = ('s', 'x', 'o', '^', 'v')\n",
        "    colors = ('red', 'blue', 'lightgreen', 'gray', 'cyan')\n",
        "    cmap = ListedColormap(colors[:len(np.unique(y))])\n",
        "\n",
        "    # plot the decision surface\n",
        "    x1_min, x1_max = X[:, 0].min() - 1, X[:, 0].max() + 1\n",
        "    x2_min, x2_max = X[:, 1].min() - 1, X[:, 1].max() + 1\n",
        "    xx1, xx2 = np.meshgrid(np.arange(x1_min, x1_max, resolution),\n",
        "                           np.arange(x2_min, x2_max, resolution))\n",
        "    if method == 'numpy':\n",
        "        Z = classifier.predict(np.array([xx1.ravel(), xx2.ravel()]).T)\n",
        "    elif method == 'pytorch':\n",
        "        inp = torch.tensor([xx1.ravel(), xx2.ravel()], dtype=torch.float, requires_grad=False).T\n",
        "        Z = np.array([]).reshape(0,1)\n",
        "        for data in inp:\n",
        "            out = classifier(data)\n",
        "            Z = np.vstack((Z, out.data.numpy()))\n",
        "    else:\n",
        "        print('Not implemented')\n",
        "    Z = Z.reshape(xx1.shape)\n",
        "    plt.contourf(xx1, xx2, Z, alpha=0.4, cmap=cmap)\n",
        "    plt.xlim(xx1.min(), xx1.max())\n",
        "    plt.ylim(xx2.min(), xx2.max())\n",
        "\n",
        "    # plot class samples\n",
        "    for idx, cl in enumerate(np.unique(y)):\n",
        "        plt.scatter(x=X[y == cl, 0], y=X[y == cl, 1],\n",
        "                    alpha=0.8, c=cmap(idx),\n",
        "                    marker=markers[idx], label=cl)\n",
        "\n",
        "    # highlight test samples\n",
        "    if test_idx:\n",
        "        # plot all samples\n",
        "        X_test, y_test = X[test_idx, :], y[test_idx]\n",
        "\n",
        "        plt.scatter(X_test[:, 0],\n",
        "                    X_test[:, 1],\n",
        "                    c='',\n",
        "                    alpha=1.0,\n",
        "                    linewidths=1,\n",
        "                    marker='o',\n",
        "                    s=55, label='test set')"
      ],
      "metadata": {
        "id": "zYD4pEegFGrT"
      },
      "execution_count": 2,
      "outputs": []
    },
    {
      "cell_type": "markdown",
      "source": [
        "Define the input data"
      ],
      "metadata": {
        "id": "JOTKggUTFNob"
      }
    },
    {
      "cell_type": "code",
      "source": [
        "torch.manual_seed(0)\n",
        "\n",
        "X = torch.tensor([[0,0],[0,1], [1,0], [1,1]], dtype=torch.float, requires_grad=False)\n",
        "Y = torch.tensor([0,1,1,0], dtype=torch.float, requires_grad=False)"
      ],
      "metadata": {
        "id": "BCq1mBXUFRRL"
      },
      "execution_count": 3,
      "outputs": []
    },
    {
      "cell_type": "code",
      "source": [
        "class Net(nn.Module):\n",
        "    def __init__(self):\n",
        "        super(Net, self).__init__()\n",
        "        # Initialize all the layers with learnable parameters\n",
        "        self.fc1 = nn.Linear(2, 2, bias=True)\n",
        "        self.fc2 = nn.Linear(2, 1, bias=True)\n",
        "\n",
        "    def forward(self, x):\n",
        "        # Write the forward pass\n",
        "        # Note that we use a sigmoid activation function here\n",
        "        x = self.fc1(x)\n",
        "        x = torch.sigmoid(x)\n",
        "        x = self.fc2(x)\n",
        "        x = torch.sigmoid(x)\n",
        "        return x\n",
        "\n",
        "model = Net()"
      ],
      "metadata": {
        "id": "QWJ4diLrFUVL"
      },
      "execution_count": 4,
      "outputs": []
    },
    {
      "cell_type": "markdown",
      "source": [
        "Initialize the weights"
      ],
      "metadata": {
        "id": "Zh5nIS-RFXqJ"
      }
    },
    {
      "cell_type": "code",
      "source": [
        "def weights_init(model):\n",
        "    for m in model.modules():\n",
        "        if isinstance(m, nn.Linear):\n",
        "            # initialize the weight tensor, here we use a normal distribution\n",
        "            m.weight.data.normal_(0, 1)\n",
        "\n",
        "weights_init(model)"
      ],
      "metadata": {
        "id": "Ld_QF6lkFbDS"
      },
      "execution_count": 5,
      "outputs": []
    },
    {
      "cell_type": "markdown",
      "source": [
        "Define the loss function"
      ],
      "metadata": {
        "id": "R6OFUhqGFf2Q"
      }
    },
    {
      "cell_type": "code",
      "source": [
        "# Use a mean square error loss\n",
        "loss_func = nn.MSELoss()"
      ],
      "metadata": {
        "id": "X66P-rXhFj3e"
      },
      "execution_count": 6,
      "outputs": []
    },
    {
      "cell_type": "markdown",
      "source": [
        "Define optimizer"
      ],
      "metadata": {
        "id": "qHxBwsgDFomG"
      }
    },
    {
      "cell_type": "code",
      "source": [
        "optimizer = optim.SGD(model.parameters(), lr=0.1)"
      ],
      "metadata": {
        "id": "LHN9I97PFp_W"
      },
      "execution_count": 7,
      "outputs": []
    },
    {
      "cell_type": "markdown",
      "source": [
        "Write the training routine"
      ],
      "metadata": {
        "id": "8lilO_fJFwU2"
      }
    },
    {
      "cell_type": "code",
      "source": [
        "epochs = 5000\n",
        "steps = X.size(0)\n",
        "for i in range(epochs): # iterate over epoch\n",
        "    for j in range(steps): # iterate over sample\n",
        "        # randomly sample the inputs\n",
        "        sample = np.random.randint(X.size(0))\n",
        "        x_var = X[sample]\n",
        "        y_var = Y[sample]\n",
        "\n",
        "        optimizer.zero_grad()\n",
        "\n",
        "        y_hat = model(x_var)\n",
        "\n",
        "        loss = loss_func.forward(y_hat[0], y_var)\n",
        "\n",
        "\n",
        "        # BACKPROP! You will see more details about this next week!\n",
        "        loss.backward()\n",
        "\n",
        "        optimizer.step()\n",
        "\n",
        "    if i % 500 == 0:\n",
        "        print(\"Epoch: {0}, Loss: {1}, \".format(i, loss.data.numpy()))"
      ],
      "metadata": {
        "colab": {
          "base_uri": "https://localhost:8080/"
        },
        "id": "ByJYaCW3GFU1",
        "outputId": "b526cf8b-c3bb-464a-f405-e52c295c45e7"
      },
      "execution_count": 8,
      "outputs": [
        {
          "output_type": "stream",
          "name": "stdout",
          "text": [
            "Epoch: 0, Loss: 0.31700399518013, \n",
            "Epoch: 500, Loss: 0.28794723749160767, \n",
            "Epoch: 1000, Loss: 0.27585697174072266, \n",
            "Epoch: 1500, Loss: 0.2559315860271454, \n",
            "Epoch: 2000, Loss: 0.23462554812431335, \n",
            "Epoch: 2500, Loss: 0.2950381636619568, \n",
            "Epoch: 3000, Loss: 0.3616390526294708, \n",
            "Epoch: 3500, Loss: 0.27936556935310364, \n",
            "Epoch: 4000, Loss: 0.3356205224990845, \n",
            "Epoch: 4500, Loss: 0.30016013979911804, \n"
          ]
        }
      ]
    },
    {
      "cell_type": "markdown",
      "source": [
        "Check the output"
      ],
      "metadata": {
        "id": "mRGMplP7GINF"
      }
    },
    {
      "cell_type": "code",
      "source": [
        "for data in X:\n",
        "    output = model(data)\n",
        "    print(data, np.round(output.data.numpy()))"
      ],
      "metadata": {
        "colab": {
          "base_uri": "https://localhost:8080/"
        },
        "id": "LYWoTsfRGLwz",
        "outputId": "f5b09d14-766c-4f88-bd55-5f0cd223b684"
      },
      "execution_count": 9,
      "outputs": [
        {
          "output_type": "stream",
          "name": "stdout",
          "text": [
            "tensor([0., 0.]) [0.]\n",
            "tensor([0., 1.]) [1.]\n",
            "tensor([1., 0.]) [0.]\n",
            "tensor([1., 1.]) [0.]\n"
          ]
        }
      ]
    },
    {
      "cell_type": "markdown",
      "source": [
        "Visualize the decision boundary"
      ],
      "metadata": {
        "id": "g5P2ynRCGQfb"
      }
    },
    {
      "cell_type": "code",
      "source": [
        "np.random.seed(0)\n",
        "plot_decision_regions(X.detach().numpy(), Y.detach().numpy(), model, 'pytorch')\n",
        "plt.xlabel('x-axis')\n",
        "plt.ylabel('y-axis')\n",
        "plt.legend(loc='upper left')\n",
        "plt.tight_layout()\n",
        "plt.show()"
      ],
      "metadata": {
        "colab": {
          "base_uri": "https://localhost:8080/",
          "height": 576
        },
        "id": "JjQDH883GRtB",
        "outputId": "d31d6836-4a0b-406a-f4fe-ef0d020db1e2"
      },
      "execution_count": 10,
      "outputs": [
        {
          "output_type": "stream",
          "name": "stderr",
          "text": [
            "<ipython-input-2-d74ee9bebb86>:18: UserWarning: Creating a tensor from a list of numpy.ndarrays is extremely slow. Please consider converting the list to a single numpy.ndarray with numpy.array() before converting to a tensor. (Triggered internally at ../torch/csrc/utils/tensor_new.cpp:275.)\n",
            "  inp = torch.tensor([xx1.ravel(), xx2.ravel()], dtype=torch.float, requires_grad=False).T\n",
            "<ipython-input-2-d74ee9bebb86>:32: UserWarning: *c* argument looks like a single numeric RGB or RGBA sequence, which should be avoided as value-mapping will have precedence in case its length matches with *x* & *y*.  Please use the *color* keyword-argument or provide a 2D array with a single row if you intend to specify the same RGB or RGBA value for all points.\n",
            "  plt.scatter(x=X[y == cl, 0], y=X[y == cl, 1],\n"
          ]
        },
        {
          "output_type": "display_data",
          "data": {
            "text/plain": [
              "<Figure size 640x480 with 1 Axes>"
            ],
            "image/png": "[encoded data removed]"
          },
          "metadata": {}
        }
      ]
    },
    {
      "cell_type": "markdown",
      "source": [
        "Exercises\n",
        "\n",
        "1)Try using the MLP classifier for different logic gates other than XOR like AND, OR, NOR etc.\n",
        "\n",
        "2)Try to change 0/1 logic to -1/+1 logic. What happens with an SLP in this case? What about an MLP?\n",
        "\n",
        "3)Try removing the activation function from the MLP and rerun the code. What happens in this case?\n",
        "\n",
        "Can you tell why particular activation function can be used in the model architecture?"
      ],
      "metadata": {
        "id": "nalrbjA7Gu1f"
      }
    },
    {
      "cell_type": "markdown",
      "source": [
        "Q1) MLP classifier for AND,OR,NOR gate"
      ],
      "metadata": {
        "id": "bbjXlo9jHlPL"
      }
    },
    {
      "cell_type": "code",
      "source": [
        "from sklearn.neural_network import MLPClassifier\n",
        "\n",
        "# Training data for AND gate\n",
        "X = [[0, 0], [0, 1], [1, 0], [1, 1]]\n",
        "y_and = [0, 0, 0, 1]\n",
        "\n",
        "# Create and train MLP classifier\n",
        "clf_and = MLPClassifier(hidden_layer_sizes=(), activation='logistic', solver='lbfgs', max_iter=1000)\n",
        "clf_and.fit(X, y_and)\n",
        "\n",
        "# Test the AND gate\n",
        "print(\"AND Gate:\")\n",
        "print(\"(0, 0) ->\", clf_and.predict([[0, 0]]))  # Expect 0\n",
        "print(\"(0, 1) ->\", clf_and.predict([[0, 1]]))  # Expect 0\n",
        "print(\"(1, 0) ->\", clf_and.predict([[1, 0]]))  # Expect 0\n",
        "print(\"(1, 1) ->\", clf_and.predict([[1, 1]]))  # Expect 1\n"
      ],
      "metadata": {
        "colab": {
          "base_uri": "https://localhost:8080/"
        },
        "id": "rLig0ANmHzO3",
        "outputId": "909fb92a-6c64-4818-88a1-bf4243de2d08"
      },
      "execution_count": 11,
      "outputs": [
        {
          "output_type": "stream",
          "name": "stdout",
          "text": [
            "AND Gate:\n",
            "(0, 0) -> [0]\n",
            "(0, 1) -> [0]\n",
            "(1, 0) -> [0]\n",
            "(1, 1) -> [1]\n"
          ]
        }
      ]
    },
    {
      "cell_type": "code",
      "source": [
        "# Training data for OR gate\n",
        "y_or = [0, 1, 1, 1]\n",
        "\n",
        "# Create and train MLP classifier\n",
        "clf_or = MLPClassifier(hidden_layer_sizes=(), activation='logistic', solver='lbfgs', max_iter=1000)\n",
        "clf_or.fit(X, y_or)\n",
        "\n",
        "# Test the OR gate\n",
        "print(\"\\nOR Gate:\")\n",
        "print(\"(0, 0) ->\", clf_or.predict([[0, 0]]))  # Expect 0\n",
        "print(\"(0, 1) ->\", clf_or.predict([[0, 1]]))  # Expect 1\n",
        "print(\"(1, 0) ->\", clf_or.predict([[1, 0]]))  # Expect 1\n",
        "print(\"(1, 1) ->\", clf_or.predict([[1, 1]]))  # Expect 1\n"
      ],
      "metadata": {
        "colab": {
          "base_uri": "https://localhost:8080/"
        },
        "id": "g5cjg9ysICAh",
        "outputId": "92abd674-50c0-402f-a69e-7a910c5f96bb"
      },
      "execution_count": 12,
      "outputs": [
        {
          "output_type": "stream",
          "name": "stdout",
          "text": [
            "\n",
            "OR Gate:\n",
            "(0, 0) -> [0]\n",
            "(0, 1) -> [1]\n",
            "(1, 0) -> [1]\n",
            "(1, 1) -> [1]\n"
          ]
        }
      ]
    },
    {
      "cell_type": "code",
      "source": [
        "# Training data for NOR gate\n",
        "y_nor = [1, 0, 0, 0]\n",
        "\n",
        "# Create and train MLP classifier\n",
        "clf_nor = MLPClassifier(hidden_layer_sizes=(), activation='logistic', solver='lbfgs', max_iter=1000)\n",
        "clf_nor.fit(X, y_nor)\n",
        "\n",
        "# Test the NOR gate\n",
        "print(\"\\nNOR Gate:\")\n",
        "print(\"(0, 0) ->\", clf_nor.predict([[0, 0]]))  # Expect 1\n",
        "print(\"(0, 1) ->\", clf_nor.predict([[0, 1]]))  # Expect 0\n",
        "print(\"(1, 0) ->\", clf_nor.predict([[1, 0]]))  # Expect 0\n",
        "print(\"(1, 1) ->\", clf_nor.predict([[1, 1]]))  # Expect 0\n"
      ],
      "metadata": {
        "colab": {
          "base_uri": "https://localhost:8080/"
        },
        "id": "Gbts5-sGIRW8",
        "outputId": "fc142137-af2a-42f1-8967-b29ecbe59d59"
      },
      "execution_count": 13,
      "outputs": [
        {
          "output_type": "stream",
          "name": "stdout",
          "text": [
            "\n",
            "NOR Gate:\n",
            "(0, 0) -> [1]\n",
            "(0, 1) -> [0]\n",
            "(1, 0) -> [0]\n",
            "(1, 1) -> [0]\n"
          ]
        }
      ]
    },
    {
      "cell_type": "code",
      "source": [
        "# Q2)\n",
        "# Modified training data for AND gate with -1/+1 logic\n",
        "# Training data for AND gate\n",
        "X_and_modified = [[-1, -1], [-1, 1], [1, -1], [1, 1]]\n",
        "y_and_modified = [-1, -1, -1, +1]\n",
        "\n",
        "# Create and train SLP classifier\n",
        "clf_and_slp = MLPClassifier(hidden_layer_sizes=(), activation='identity', solver='lbfgs', max_iter=1000)\n",
        "clf_and_slp.fit(X, y_and_modified)\n",
        "\n",
        "# Create and train MLP classifier\n",
        "clf_and_mlp = MLPClassifier(hidden_layer_sizes=(), activation='logistic', solver='lbfgs', max_iter=1000)\n",
        "clf_and_mlp.fit(X, y_and_modified)\n",
        "\n",
        "# Test the AND gate with SLP\n",
        "print(\"AND Gate with SLP:\")\n",
        "print(\"(+1, +1) ->\", clf_and_slp.predict([[+1, +1]]))  # Expect +1\n",
        "print(\"(+1, -1) ->\", clf_and_slp.predict([[+1, -1]]))  # Expect -1\n",
        "print(\"(-1, +1) ->\", clf_and_slp.predict([[-1, +1]]))  # Expect -1\n",
        "print(\"(-1, -1) ->\", clf_and_slp.predict([[-1, -1]]))  # Expect -1\n",
        "\n",
        "# Test the AND gate with MLP\n",
        "print(\"\\nAND Gate with MLP:\")\n",
        "print(\"(+1, +1) ->\", clf_and_mlp.predict([[+1, +1]]))  # Expect +1\n",
        "print(\"(+1, -1) ->\", clf_and_mlp.predict([[+1, -1]]))  # Expect -1\n",
        "print(\"(-1, +1) ->\", clf_and_mlp.predict([[-1, +1]]))  # Expect -1\n",
        "print(\"(-1, -1) ->\", clf_and_mlp.predict([[-1, -1]]))  # Expect -1\n"
      ],
      "metadata": {
        "colab": {
          "base_uri": "https://localhost:8080/"
        },
        "id": "Mwdk3R36Iszf",
        "outputId": "a5223e6b-2225-4fc8-b9d9-015f06ac2d7a"
      },
      "execution_count": 14,
      "outputs": [
        {
          "output_type": "stream",
          "name": "stdout",
          "text": [
            "AND Gate with SLP:\n",
            "(+1, +1) -> [1]\n",
            "(+1, -1) -> [-1]\n",
            "(-1, +1) -> [-1]\n",
            "(-1, -1) -> [-1]\n",
            "\n",
            "AND Gate with MLP:\n",
            "(+1, +1) -> [1]\n",
            "(+1, -1) -> [-1]\n",
            "(-1, +1) -> [-1]\n",
            "(-1, -1) -> [-1]\n"
          ]
        }
      ]
    },
    {
      "cell_type": "code",
      "source": [
        "# Q3)\n",
        "# Create and train MLP classifier without activation function\n",
        "clf_and_mlp_no_activation = MLPClassifier(hidden_layer_sizes=(), activation='identity', solver='lbfgs', max_iter=1000)\n",
        "clf_and_mlp_no_activation.fit(X, y_and_modified)\n",
        "\n",
        "# Test the AND gate with MLP without activation function\n",
        "print(\"\\nAND Gate with MLP (No Activation Function):\")\n",
        "print(\"(+1, +1) ->\", clf_and_mlp_no_activation.predict([[+1, +1]]))  # Expect +1\n",
        "print(\"(+1, -1) ->\", clf_and_mlp_no_activation.predict([[+1, -1]]))  # Expect -1\n",
        "print(\"(-1, +1) ->\", clf_and_mlp_no_activation.predict([[-1, +1]]))  # Expect -1\n",
        "print(\"(-1, -1) ->\", clf_and_mlp_no_activation.predict([[-1, -1]]))  # Expect -1\n"
      ],
      "metadata": {
        "colab": {
          "base_uri": "https://localhost:8080/"
        },
        "id": "DEC_gEfqJvud",
        "outputId": "2cd37868-d4b8-4dcb-9f37-2fb07831fd35"
      },
      "execution_count": 15,
      "outputs": [
        {
          "output_type": "stream",
          "name": "stdout",
          "text": [
            "\n",
            "AND Gate with MLP (No Activation Function):\n",
            "(+1, +1) -> [1]\n",
            "(+1, -1) -> [-1]\n",
            "(-1, +1) -> [-1]\n",
            "(-1, -1) -> [-1]\n"
          ]
        }
      ]
    },
    {
      "cell_type": "markdown",
      "source": [
        "Answer Q3)\n",
        "\n",
        "When removing the activation function from the MLP, it essentially becomes a linear classifier, as it applies only linear transformations to the input data without any non-linear activation. In this case, the MLP behaves very similarly to a Single-Layer Perceptron (SLP), as it can only learn linearly separable patterns.\n",
        "\n",
        "For the AND gate, which is a linearly separable problem, both the SLP and the MLP without activation function can learn the correct weights to classify the inputs. However, for more complex problems that are not linearly separable, the absence of an activation function severely limits the expressive power of the model, and it may fail to learn or generalize well.\n",
        "\n",
        "Regarding the choice of activation function, different activation functions serve different purposes and are suited to different types of problems:\n",
        "\n",
        "1)Logistic (sigmoid): Traditionally used in MLPs for binary classification problems due to its smooth, differentiable nature. However, it can suffer from the vanishing gradient problem during training.\n",
        "\n",
        "2)ReLU (Rectified Linear Unit): Widely used in deep learning models for its simplicity and effectiveness in combating the vanishing gradient problem. ReLU is often used in hidden layers but not in the output layer for classification tasks, as it allows the network to learn more complex representations.\n",
        "\n",
        "3)Identity: Essentially a linear activation function, it preserves the input as output. It's useful when the output space is unbounded and you want the model to directly predict real values.\n",
        "\n",
        "4)Tanh (Hyperbolic Tangent): Similar to sigmoid but outputs values in the range [-1, 1], making it suitable for models where inputs are also normalized to that range.\n",
        "\n",
        "The choice of activation function depends on the specific characteristics of the problem, such as the nature of the data, the desired output space, and the potential issues like vanishing gradients.\n",
        "\n",
        "\n",
        "\n",
        "\n",
        "\n",
        "\n"
      ],
      "metadata": {
        "id": "aEZ-8MKGJ2UP"
      }
    }
  ]
}